{
    "cells": [
        {
            "cell_type": "markdown",
            "metadata": {},
            "source": [
                "![QuantConnect Logo](https://cdn.quantconnect.com/web/i/icon.png)\n",
                "<hr>"
            ]
        },
        {
            "cell_type": "code",
            "execution_count": null,
            "metadata": {},
            "outputs": [
                {
                    "data": {
                        "text/plain": [
                            "Traceback (most recent call last):\n",
                            "  File \"/Users/jay/.vscode/extensions/ms-python.python-2025.8.0-darwin-arm64/python_files/python_server.py\", line 133, in exec_user_input\n",
                            "    retval = callable_(user_input, user_globals)\n",
                            "  File \"<string>\", line 3, in <module>\n",
                            "NameError: name 'QuantBook' is not defined\n",
                            "\n"
                        ]
                    },
                    "metadata": {},
                    "output_type": "display_data"
                }
            ],
            "source": [
                "# QuantBook Analysis Tool \n",
                "# For more information see [https://www.quantconnect.com/docs/v2/our-platform/research/getting-started]\n",
                "qb = QuantBook()\n",
                "spy = qb.add_equity(\"SPY\")\n",
                "# Locally Lean installs free sample data, to download more data please visit https://www.quantconnect.com/docs/v2/lean-cli/datasets/downloading-data \n",
                "qb.set_start_date(2013, 10, 11)\n",
                "history = qb.history(qb.securities.keys(), 360, Resolution.DAILY)\n",
                "\n",
                "# Indicator Analysis\n",
                "bbdf = qb.indicator(BollingerBands(30, 2), spy.symbol, 360, Resolution.DAILY)\n",
                "bbdf.drop('standarddeviation', axis=1).plot()"
            ]
        }
    ],
    "metadata": {
        "kernelspec": {
            "display_name": "Python 3",
            "language": "python",
            "name": "python3"
        }
    },
    "nbformat": 4,
    "nbformat_minor": 2
}
